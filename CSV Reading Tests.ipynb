{
 "cells": [
  {
   "cell_type": "code",
   "execution_count": 1,
   "metadata": {
    "collapsed": true
   },
   "outputs": [],
   "source": [
    "import csv\n",
    "from __future__ import division\n",
    "PATH_TO_DATA = \"Valence, Arousal, Dominance - Ratings_Warriner_et_al.csv\"\n",
    "word_info = {}\n",
    "\n",
    "def rescale(values, new_min, new_max):\n",
    "    output = []\n",
    "    old_min, old_max = min(values), max(values)\n",
    "\n",
    "    for v in values:\n",
    "        new_v = (new_max - new_min) / (old_max - old_min) * (v - old_min) + new_min\n",
    "        output.append(new_v)\n",
    "    return output\n",
    "\n",
    "def readValAroCSV():\n",
    "    with open(PATH_TO_DATA, 'rb') as f:\n",
    "        reader = csv.reader(f)\n",
    "        reader.next()\n",
    "        for row in reader:\n",
    "            word = row.pop(0)\n",
    "            word_info[word]=row\n",
    "            # for row - ValAvg, ValRat, AroAvg, AroRat, DomAvg, DomRat\n",
    "readCSV()"
   ]
  },
  {
   "cell_type": "code",
   "execution_count": 2,
   "metadata": {
    "collapsed": true
   },
   "outputs": [],
   "source": [
    "emotionVals = {}\n",
    "\n",
    "def readEmotionVals():\n",
    "    # calculate valence\n",
    "    with open(\"Emotion Values.csv\") as f:\n",
    "        reader = csv.reader(f)\n",
    "        reader.next()\n",
    "        emoVal = [float(x[1]) for x in reader]\n",
    "        f_emoVals = rescale(emoVal, 0, 10)\n",
    "    \n",
    "    # calculate arousal        \n",
    "    with open(\"Emotion Values.csv\") as f: \n",
    "        reader = csv.reader(f)\n",
    "        reader.next()\n",
    "        emoAro = [float(x[2]) for x in reader]\n",
    "        f_emoAro = rescale(emoAro, 0, 10)\n",
    "    \n",
    "    # word    \n",
    "    with open(\"Emotion Values.csv\") as f: \n",
    "        reader = csv.reader(f)\n",
    "        reader.next()\n",
    "        emotions = [x[0] for x in reader]\n",
    "    \n",
    "    for i in range(len(emotions)):\n",
    "        emotionVals[emotions[i]] = [f_emoVals[i], f_emoAro[i]]\n",
    "\n",
    "readEmotionVals()"
   ]
  },
  {
   "cell_type": "code",
   "execution_count": 5,
   "metadata": {},
   "outputs": [
    {
     "name": "stdout",
     "output_type": "stream",
     "text": [
      "['it', 'might', 'seem', 'crazy', 'what', 'im', 'about', 'to', 'say', 'sunshine', 'shes', 'here', 'you', 'can', 'take', 'away', 'im', 'a', 'hot', 'air', 'balloon', 'i', 'could', 'go', 'to', 'space', 'with', 'the', 'air', 'like', 'i', 'dont', 'care', 'baby', 'by', 'the', 'waybecause', 'im', 'happy', 'clap', 'along', 'if', 'you', 'feel', 'like', 'a', 'room', 'without', 'a', 'roof', 'because', 'im', 'happy', 'clap', 'along', 'if', 'you', 'feel', 'like', 'happiness', 'is', 'the', 'truth', 'because', 'im', 'happy', 'clap', 'along', 'if', 'you', 'know', 'what', 'happiness', 'is', 'to', 'you', 'because', 'im', 'happy', 'clap', 'along', 'if', 'you', 'feel', 'like', 'thats', 'what', 'you', 'wanna', 'dohere', 'come', 'bad', 'news', 'talking', 'this', 'and', 'that', 'yeah', 'give', 'me', 'all', 'you', 'got', 'dont', 'hold', 'back', 'yeah', 'well', 'i', 'should', 'probably', 'warn', 'you', 'ill', 'be', 'just', 'fine', 'yeah', 'no', 'offense', 'to', 'you', 'dont', 'waste', 'your', 'time', 'heres', 'why', 'memory', 'byamandah', 'editor', 'in', 'an', 'indepth', 'interview', 'with', 'oprah', 'pharrell', 'williams', 'famously', 'broke', 'down', 'into', 'happy', 'tears', 'when', 'describing', 'the', 'impact', 'his', 'signature', 'song', 'had', 'on', 'people', 'see', 'all', 'because', 'im', 'happy', 'clap', 'along', 'if', 'you', 'feel', 'like', 'a', 'room', 'without', 'a', 'roof', 'because', 'im', 'happy', 'clap', 'along', 'if', 'you', 'feel', 'like', 'happiness', 'is', 'the', 'truth', 'because', 'im', 'happy', 'clap', 'along', 'if', 'you', 'know', 'what', 'happiness', 'is', 'to', 'you', 'because', 'im', 'happy', 'clap', 'along', 'if', 'you', 'feel', 'like', 'thats', 'what', 'you', 'wanna', 'dohappy', 'bring', 'me', 'down', 'cant', 'nothing', 'bring', 'me', 'down', 'love', 'is', 'too', 'happy', 'to', 'bring', 'me', 'down', 'cant', 'nothing', 'bring', 'me', 'down', 'i', 'said', 'bring', 'me', 'down', 'cant', 'nothing', 'bring', 'me', 'down', 'love', 'is', 'too', 'happy', 'to', 'bring', 'me', 'down', 'cant', 'nothing', 'bring', 'me', 'down', 'i', 'saidbecause', 'im', 'happy', 'clap', 'along', 'if', 'you', 'feel', 'like', 'a', 'room', 'without', 'a', 'roof', 'because', 'im', 'happy', 'clap', 'along', 'if', 'you', 'feel', 'like', 'happiness', 'is', 'the', 'truth', 'because', 'im', 'happy', 'clap', 'along', 'if', 'you', 'know', 'what', 'happiness', 'is', 'to', 'you', 'because', 'im', 'happy', 'clap', 'along', 'if', 'you', 'feel', 'like', 'thats', 'what', 'you', 'wanna', 'dobecause', 'im', 'happy', 'clap', 'along', 'if', 'you', 'feel', 'like', 'a', 'room', 'without', 'a', 'roof', 'because', 'im', 'happy', 'clap', 'along', 'if', 'you', 'feel', 'like', 'happiness', 'is', 'the', 'truth', 'because', 'im', 'happy', 'clap', 'along', 'if', 'you', 'know', 'what', 'happiness', 'is', 'to', 'you', 'because', 'im', 'happy', 'clap', 'along', 'if', 'you', 'feel', 'like', 'thats', 'what', 'you', 'wanna', 'dohappy', 'bring', 'me', 'down', 'cant', 'nothing', 'bring', 'me', 'down', 'love', 'is', 'too', 'happy', 'to', 'bring', 'me', 'down', 'cant', 'nothing', 'bring', 'me', 'down', 'i', 'saidbecause', 'im', 'happy', 'clap', 'along', 'if', 'you', 'feel', 'like', 'a', 'room', 'without', 'a', 'roof', 'because', 'im', 'happy', 'clap', 'along', 'if', 'you', 'feel', 'like', 'happiness', 'is', 'the', 'truth', 'because', 'im', 'happy', 'clap', 'along', 'if', 'you', 'know', 'what', 'happiness', 'is', 'to', 'you', 'because', 'im', 'happy', 'clap', 'along', 'if', 'you', 'feel', 'like', 'thats', 'what', 'you', 'wanna', 'dobecause', 'im', 'happy', 'clap', 'along', 'if', 'you', 'feel', 'like', 'a', 'room', 'without', 'a', 'roof', 'because', 'im', 'happy', 'clap', 'along', 'if', 'you', 'feel', 'like', 'happiness', 'is', 'the', 'truth', 'because', 'im', 'happy', 'clap', 'along', 'if', 'you', 'know', 'what', 'happiness', 'is', 'to', 'you', 'because', 'im', 'happy', 'clap', 'along', 'if', 'you', 'feel', 'like', 'thats', 'what', 'you', 'wanna', 'do']\n"
     ]
    }
   ],
   "source": [
    "reader = csv.reader(open('lyrics.csv'))\n",
    "songDict = {}\n",
    "reader.next()\n",
    "for row in reader:\n",
    "    key = row[0]\n",
    "    lyric = row[1].split()\n",
    "    songDict[key] = lyric\n",
    "print songDict[\"happy\"]"
   ]
  },
  {
   "cell_type": "code",
   "execution_count": 23,
   "metadata": {},
   "outputs": [
    {
     "name": "stdout",
     "output_type": "stream",
     "text": [
      "[6.739028571428575, 4.704685714285714]\n"
     ]
    }
   ],
   "source": [
    "#from __future__ import division\n",
    "song_avg_emotion_val = {}\n",
    "\n",
    "def generateBOW(songLyrics):\n",
    "    bow = {} \n",
    "    for word in songLyrics:\n",
    "        if word not in bow.keys():\n",
    "            bow[word] = 1\n",
    "        else:\n",
    "            bow[word] += 1\n",
    "    return bow\n",
    "\n",
    "def calculate(songDict):\n",
    "    for name, lyrics in songDict.items():\n",
    "        \n",
    "        # generate a hashmap\n",
    "        numWords = len(lyrics)\n",
    "        lyricsBOW = generateBOW(lyrics)\n",
    "        \n",
    "        avg_val = 0\n",
    "        avg_aro = 0\n",
    "        #avg_dom = 0\n",
    "        # currently ignoring dominance values since we don't have a comparator \n",
    "        \n",
    "        # get corresponding VAD in word_info\n",
    "        for word, count in lyricsBOW.items():\n",
    "            # do nothing if it's not in word_info\n",
    "            if word not in word_info:\n",
    "                numWords -= count\n",
    "                continue\n",
    "            # if it is inside\n",
    "            # add to running avg of song - 3 total values  \n",
    "            # perhaps include perceptron? \n",
    "            word_values = word_info[word]\n",
    "        \n",
    "            #print \"avg_val is:\", avg_val\n",
    "            avg_val += float(word_values[0])*count\n",
    "            avg_aro += float(word_values[2])*count\n",
    "            #avg_dom += float(word_values[4])*count\n",
    "            \n",
    "        f_avg_val = avg_val/numWords\n",
    "        f_avg_aro = avg_aro/numWords\n",
    "        #f_avg_dom = avg_dom/numWords\n",
    "        #song_avg_emotion_val[name] = [f_avg_val, f_avg_aro, f_avg_dom]\n",
    "        song_avg_emotion_val[name] = [f_avg_val, f_avg_aro]\n",
    "calculate(songDict)\n",
    "print song_avg_emotion_val['happy']"
   ]
  },
  {
   "cell_type": "code",
   "execution_count": 19,
   "metadata": {},
   "outputs": [
    {
     "name": "stdout",
     "output_type": "stream",
     "text": [
      "('depressed', [0.0, 2.841530054644809])\n",
      "('sad', [0.0, 3.2786885245901636])\n",
      "('disappointed', [0.05847953216374274, 5.300546448087432])\n",
      "('anxious', [0.5263157894736847, 1.0928961748633876])\n",
      "('distressed', [0.5847953216374274, 8.469945355191257])\n",
      "('uncomfortable', [0.760233918128655, 3.442622950819672])\n",
      "('discontent', [0.760233918128655, 3.715846994535519])\n",
      "('frustrated', [1.228070175438597, 7.6502732240437155])\n",
      "('annoyed', [2.1637426900584797, 9.617486338797814])\n",
      "('angry', [2.3976608187134505, 9.781420765027322])\n",
      "('bored', [2.6900584795321643, 1.2021857923497266])\n",
      "('embarassed', [2.9239766081871346, 2.185792349726776])\n",
      "('apathetic', [3.5672514619883047, 4.808743169398907])\n",
      "('engraged', [3.6842105263157903, 10.0])\n",
      "('afraid', [4.035087719298246, 9.781420765027322])\n",
      "('worried', [4.3274853801169595, 3.715846994535519])\n",
      "('melancholy', [4.444444444444445, 1.9125683060109289])\n",
      "('tired', [4.678362573099416, 0.0])\n",
      "('sleepy', [4.795321637426901, 0.0])\n",
      "('pensive', [4.912280701754386, 2.185792349726776])\n",
      "('impressed', [7.017543859649124, 5.136612021857923])\n",
      "('peaceful', [7.953216374269006, 1.0928961748633876])\n",
      "('amused', [7.953216374269006, 6.502732240437158])\n",
      "('contemplative', [8.128654970760234, 2.185792349726776])\n",
      "('hopeful', [8.304093567251462, 3.8251366120218577])\n",
      "('excited', [8.830409356725147, 9.344262295081966])\n",
      "('relaxed', [8.88888888888889, 1.9125683060109289])\n",
      "('determined', [9.005847953216374, 6.885245901639344])\n",
      "('satisfied', [9.239766081871347, 2.021857923497268])\n",
      "('calm', [9.298245614035089, 1.7486338797814205])\n",
      "('content', [9.473684210526317, 2.4590163934426226])\n",
      "('pleased', [9.94152046783626, 4.918032786885246])\n",
      "('happy', [9.94152046783626, 6.393442622950819])\n",
      "('good', [10.0, 5.027322404371585])\n",
      "\n",
      "('good', [10.0, 5.027322404371585])\n",
      "('happy', [9.94152046783626, 6.393442622950819])\n",
      "('pleased', [9.94152046783626, 4.918032786885246])\n",
      "('content', [9.473684210526317, 2.4590163934426226])\n",
      "('calm', [9.298245614035089, 1.7486338797814205])\n",
      "('satisfied', [9.239766081871347, 2.021857923497268])\n",
      "('determined', [9.005847953216374, 6.885245901639344])\n",
      "('relaxed', [8.88888888888889, 1.9125683060109289])\n",
      "('excited', [8.830409356725147, 9.344262295081966])\n",
      "('hopeful', [8.304093567251462, 3.8251366120218577])\n",
      "('contemplative', [8.128654970760234, 2.185792349726776])\n",
      "('amused', [7.953216374269006, 6.502732240437158])\n",
      "('peaceful', [7.953216374269006, 1.0928961748633876])\n",
      "('impressed', [7.017543859649124, 5.136612021857923])\n",
      "('pensive', [4.912280701754386, 2.185792349726776])\n",
      "('sleepy', [4.795321637426901, 0.0])\n",
      "('tired', [4.678362573099416, 0.0])\n",
      "('melancholy', [4.444444444444445, 1.9125683060109289])\n",
      "('worried', [4.3274853801169595, 3.715846994535519])\n",
      "('afraid', [4.035087719298246, 9.781420765027322])\n",
      "('engraged', [3.6842105263157903, 10.0])\n",
      "('apathetic', [3.5672514619883047, 4.808743169398907])\n",
      "('embarassed', [2.9239766081871346, 2.185792349726776])\n",
      "('bored', [2.6900584795321643, 1.2021857923497266])\n",
      "('angry', [2.3976608187134505, 9.781420765027322])\n",
      "('annoyed', [2.1637426900584797, 9.617486338797814])\n",
      "('frustrated', [1.228070175438597, 7.6502732240437155])\n",
      "('discontent', [0.760233918128655, 3.715846994535519])\n",
      "('uncomfortable', [0.760233918128655, 3.442622950819672])\n",
      "('distressed', [0.5847953216374274, 8.469945355191257])\n",
      "('anxious', [0.5263157894736847, 1.0928961748633876])\n",
      "('disappointed', [0.05847953216374274, 5.300546448087432])\n",
      "('sad', [0.0, 3.2786885245901636])\n",
      "('depressed', [0.0, 2.841530054644809])\n",
      "\n"
     ]
    }
   ],
   "source": [
    "#def matchEmotion():\n",
    "def printNicely(wordList):\n",
    "    for emotion in wordList:\n",
    "        print emotion\n",
    "# sorted emotions by valence - lowest to greatest\n",
    "sorted_emoVal = sorted(emotionVals.items(), key=lambda pair: pair[1])\n",
    "printNicely(sorted_emoVal)\n",
    "print\n",
    " #for each song, compare the valence and arousals \n",
    "\n"
   ]
  },
  {
   "cell_type": "code",
   "execution_count": null,
   "metadata": {
    "collapsed": true
   },
   "outputs": [],
   "source": []
  }
 ],
 "metadata": {
  "kernelspec": {
   "display_name": "Python 2",
   "language": "python",
   "name": "python2"
  },
  "language_info": {
   "codemirror_mode": {
    "name": "ipython",
    "version": 2
   },
   "file_extension": ".py",
   "mimetype": "text/x-python",
   "name": "python",
   "nbconvert_exporter": "python",
   "pygments_lexer": "ipython2",
   "version": "2.7.13"
  }
 },
 "nbformat": 4,
 "nbformat_minor": 2
}
